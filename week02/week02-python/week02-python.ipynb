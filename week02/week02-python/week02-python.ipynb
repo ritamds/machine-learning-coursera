{
 "cells": [
  {
   "cell_type": "markdown",
   "metadata": {},
   "source": [
    "# Linear Regression"
   ]
  },
  {
   "cell_type": "markdown",
   "metadata": {},
   "source": [
    "#### Week 02 - Programming Assignment\n",
    "This notebook contains my Python solution to the first programming assignment of the course Machine Learning, taught by Andrew Ng in Coursera.  \n",
    "Find my MATLAB solution [here](https://github.com/ritamds/machine-learning-coursera/tree/master/week02/week02-assignment)."
   ]
  },
  {
   "cell_type": "markdown",
   "metadata": {},
   "source": [
    "## Content\n",
    "* [Warm Up Exercise](#warmUpExercise)\n",
    "* [Linear Regression with One Variable](#linearRegression1V)\n",
    "* [Linear Regression with Multiple Variables](#linearRegressionMV)"
   ]
  },
  {
   "cell_type": "code",
   "execution_count": 1,
   "metadata": {},
   "outputs": [],
   "source": [
    "import numpy as np\n",
    "import pandas as pd\n",
    "import matplotlib.pyplot as plt"
   ]
  },
  {
   "cell_type": "markdown",
   "metadata": {},
   "source": [
    "<a id=\"warmUpExercise\"></a>"
   ]
  },
  {
   "cell_type": "markdown",
   "metadata": {},
   "source": [
    "## Warm Up Exercise\n",
    "The goal of this exercise is to return a 5*5 identity matrix."
   ]
  },
  {
   "cell_type": "code",
   "execution_count": 2,
   "metadata": {},
   "outputs": [
    {
     "data": {
      "text/plain": [
       "array([[1., 0., 0., 0., 0.],\n",
       "       [0., 1., 0., 0., 0.],\n",
       "       [0., 0., 1., 0., 0.],\n",
       "       [0., 0., 0., 1., 0.],\n",
       "       [0., 0., 0., 0., 1.]])"
      ]
     },
     "execution_count": 2,
     "metadata": {},
     "output_type": "execute_result"
    }
   ],
   "source": [
    "def warm_up_exercise():\n",
    "    return np.identity(5)\n",
    "\n",
    "warm_up_exercise()"
   ]
  },
  {
   "cell_type": "markdown",
   "metadata": {},
   "source": [
    "<a id=\"linearRegression1V\"></a>"
   ]
  },
  {
   "cell_type": "markdown",
   "metadata": {},
   "source": [
    "## Linear Regression with One Variable\n",
    "For this exercise, we will implement linear regression with one variable to predict profits for a food truck.  \n",
    "Suppose you are the CEO of a restaurant franchise and are considering different cities for opening a new outlet. The chain already has trucks in various cities and you have data for products and populations from the cities. You would like to use this data to help you select which city to expand to next.  "
   ]
  },
  {
   "cell_type": "code",
   "execution_count": 3,
   "metadata": {},
   "outputs": [],
   "source": [
    "data = pd.read_csv('ex1data1.txt', header=None, names=['Population', 'Profit'])\n",
    "\n",
    "X = data.iloc[:,0] #pd.iloc[] - selects and allocates to variable by [row, column]\n",
    "y = data.iloc[:,1]"
   ]
  },
  {
   "cell_type": "markdown",
   "metadata": {},
   "source": [
    "#### Visualizing the Data\n",
    "We begin by examining the data: we will have a look at its first five rows, at some basic statistics and we will visualize the values in a scatter plot."
   ]
  },
  {
   "cell_type": "code",
   "execution_count": 4,
   "metadata": {
    "scrolled": true
   },
   "outputs": [
    {
     "data": {
      "text/html": [
       "<div>\n",
       "<style scoped>\n",
       "    .dataframe tbody tr th:only-of-type {\n",
       "        vertical-align: middle;\n",
       "    }\n",
       "\n",
       "    .dataframe tbody tr th {\n",
       "        vertical-align: top;\n",
       "    }\n",
       "\n",
       "    .dataframe thead th {\n",
       "        text-align: right;\n",
       "    }\n",
       "</style>\n",
       "<table border=\"1\" class=\"dataframe\">\n",
       "  <thead>\n",
       "    <tr style=\"text-align: right;\">\n",
       "      <th></th>\n",
       "      <th>Population</th>\n",
       "      <th>Profit</th>\n",
       "    </tr>\n",
       "  </thead>\n",
       "  <tbody>\n",
       "    <tr>\n",
       "      <th>0</th>\n",
       "      <td>6.1101</td>\n",
       "      <td>17.5920</td>\n",
       "    </tr>\n",
       "    <tr>\n",
       "      <th>1</th>\n",
       "      <td>5.5277</td>\n",
       "      <td>9.1302</td>\n",
       "    </tr>\n",
       "    <tr>\n",
       "      <th>2</th>\n",
       "      <td>8.5186</td>\n",
       "      <td>13.6620</td>\n",
       "    </tr>\n",
       "    <tr>\n",
       "      <th>3</th>\n",
       "      <td>7.0032</td>\n",
       "      <td>11.8540</td>\n",
       "    </tr>\n",
       "    <tr>\n",
       "      <th>4</th>\n",
       "      <td>5.8598</td>\n",
       "      <td>6.8233</td>\n",
       "    </tr>\n",
       "  </tbody>\n",
       "</table>\n",
       "</div>"
      ],
      "text/plain": [
       "   Population   Profit\n",
       "0      6.1101  17.5920\n",
       "1      5.5277   9.1302\n",
       "2      8.5186  13.6620\n",
       "3      7.0032  11.8540\n",
       "4      5.8598   6.8233"
      ]
     },
     "execution_count": 4,
     "metadata": {},
     "output_type": "execute_result"
    }
   ],
   "source": [
    "data.head() #pd.head() - returns top n (default 5) rows of Dataframe "
   ]
  },
  {
   "cell_type": "code",
   "execution_count": 5,
   "metadata": {
    "scrolled": true
   },
   "outputs": [
    {
     "data": {
      "text/html": [
       "<div>\n",
       "<style scoped>\n",
       "    .dataframe tbody tr th:only-of-type {\n",
       "        vertical-align: middle;\n",
       "    }\n",
       "\n",
       "    .dataframe tbody tr th {\n",
       "        vertical-align: top;\n",
       "    }\n",
       "\n",
       "    .dataframe thead th {\n",
       "        text-align: right;\n",
       "    }\n",
       "</style>\n",
       "<table border=\"1\" class=\"dataframe\">\n",
       "  <thead>\n",
       "    <tr style=\"text-align: right;\">\n",
       "      <th></th>\n",
       "      <th>Population</th>\n",
       "      <th>Profit</th>\n",
       "    </tr>\n",
       "  </thead>\n",
       "  <tbody>\n",
       "    <tr>\n",
       "      <th>count</th>\n",
       "      <td>97.000000</td>\n",
       "      <td>97.000000</td>\n",
       "    </tr>\n",
       "    <tr>\n",
       "      <th>mean</th>\n",
       "      <td>8.159800</td>\n",
       "      <td>5.839135</td>\n",
       "    </tr>\n",
       "    <tr>\n",
       "      <th>std</th>\n",
       "      <td>3.869884</td>\n",
       "      <td>5.510262</td>\n",
       "    </tr>\n",
       "    <tr>\n",
       "      <th>min</th>\n",
       "      <td>5.026900</td>\n",
       "      <td>-2.680700</td>\n",
       "    </tr>\n",
       "    <tr>\n",
       "      <th>25%</th>\n",
       "      <td>5.707700</td>\n",
       "      <td>1.986900</td>\n",
       "    </tr>\n",
       "    <tr>\n",
       "      <th>50%</th>\n",
       "      <td>6.589400</td>\n",
       "      <td>4.562300</td>\n",
       "    </tr>\n",
       "    <tr>\n",
       "      <th>75%</th>\n",
       "      <td>8.578100</td>\n",
       "      <td>7.046700</td>\n",
       "    </tr>\n",
       "    <tr>\n",
       "      <th>max</th>\n",
       "      <td>22.203000</td>\n",
       "      <td>24.147000</td>\n",
       "    </tr>\n",
       "  </tbody>\n",
       "</table>\n",
       "</div>"
      ],
      "text/plain": [
       "       Population     Profit\n",
       "count   97.000000  97.000000\n",
       "mean     8.159800   5.839135\n",
       "std      3.869884   5.510262\n",
       "min      5.026900  -2.680700\n",
       "25%      5.707700   1.986900\n",
       "50%      6.589400   4.562300\n",
       "75%      8.578100   7.046700\n",
       "max     22.203000  24.147000"
      ]
     },
     "execution_count": 5,
     "metadata": {},
     "output_type": "execute_result"
    }
   ],
   "source": [
    "data.describe() #pd.describe() - returns basic statistical details"
   ]
  },
  {
   "cell_type": "code",
   "execution_count": 6,
   "metadata": {
    "scrolled": true
   },
   "outputs": [
    {
     "data": {
      "image/png": "[encoded data removed]",
      "text/plain": [
       "<Figure size 432x288 with 1 Axes>"
      ]
     },
     "metadata": {
      "needs_background": "light"
     },
     "output_type": "display_data"
    }
   ],
   "source": [
    "plt.scatter(X,y, c='red', marker='X', linewidths=1)\n",
    "plt.rcParams['figure.figsize'] = (10,5)\n",
    "plt.xlabel('Population of City (10,000s)')\n",
    "plt.ylabel('Profit ($10,000s)')\n",
    "plt.show()"
   ]
  },
  {
   "cell_type": "markdown",
   "metadata": {},
   "source": [
    "#### Preparing the Data\n",
    "From the plot above, we can already see a linear trend.  \n",
    "Now, we will prepare the data to be analysed. We start by adding another dimension to `X` and `y`, and initialize `theta` to 0."
   ]
  },
  {
   "cell_type": "code",
   "execution_count": 7,
   "metadata": {},
   "outputs": [],
   "source": [
    "m = len(X)\n",
    "\n",
    "ones = np.ones((m,1)) #np.ones() - ones is a rank 2 array\n",
    "\n",
    "X = X[:,np.newaxis] #np.newaxis - adds a new axis to X making it a rank 2 array\n",
    "y = y[:, np.newaxis]\n",
    "\n",
    "X = np.hstack((ones, X)) #np.hstack() - stacks arrays in sequence column-wise\n",
    "\n",
    "theta = np.zeros([2,1])"
   ]
  },
  {
   "cell_type": "markdown",
   "metadata": {},
   "source": [
    "#### Cost and Gradient Descent\n",
    "In this part, we will fit the linear regression parameters theta to our dataset using gradient descent.  \n",
    "\n",
    "First, we begin by defining the `Cost Function`, which evaluates the accuracy of our hypotesis by measuring the error between our model's `predictions` and the actual `y` value. We will test it with `theta` initialized to 0.  \n",
    "Then, we will define and implement `Gradient Descent`. `Gradient Descent` will find the optimal parameters `theta` that reduce the error. We will verify that it is working correctly by plotting the `Cost Funcion` and checking if the value is decreasing with each step."
   ]
  },
  {
   "cell_type": "code",
   "execution_count": 8,
   "metadata": {},
   "outputs": [],
   "source": [
    "def compute_cost(X, y, theta):\n",
    "    \"\"\"\n",
    "    Computes the cost of using theta as the parameter for linear regression to fit the data points in X and y\n",
    "    \"\"\"\n",
    "    m = len(y)\n",
    "    predictions = np.dot(X,theta) #np.dot() - returns the dot product of two arrays\n",
    "    squared_error = np.square((predictions - y))\n",
    "    sum_error = np.sum(squared_error)\n",
    "    cost = 1/(2*m) * sum_error\n",
    "    \n",
    "    return cost"
   ]
  },
  {
   "cell_type": "code",
   "execution_count": 9,
   "metadata": {},
   "outputs": [
    {
     "name": "stdout",
     "output_type": "stream",
     "text": [
      "With theta [0. 0.] , cost computed = 32.07\n"
     ]
    }
   ],
   "source": [
    "cost_J = compute_cost(X,y,theta)\n",
    "print ('With theta', theta.ravel(),', cost computed =',cost_J.round(2)) #np.ravel() - returns a flattened array"
   ]
  },
  {
   "cell_type": "code",
   "execution_count": 10,
   "metadata": {},
   "outputs": [],
   "source": [
    "def gradient_descent(X, y, theta, alpha=0.01, num_iters=1500):\n",
    "    \"\"\"\n",
    "    Performs gradient descent to find the ideal theta values\n",
    "    \"\"\"\n",
    "    m = len(y)\n",
    "    J_history = []\n",
    "    \n",
    "    for iter in range(num_iters):\n",
    "        prediction = np.dot(X, theta)\n",
    "        error = X.T.dot(prediction - y) #np.T - returns the transpose of the array (= np.transpose())\n",
    "        theta = theta - (1/m) * alpha * error\n",
    "        \n",
    "        J_history.append(compute_cost(X, y, theta))\n",
    "        \n",
    "    return (theta, J_history)"
   ]
  },
  {
   "cell_type": "code",
   "execution_count": 11,
   "metadata": {},
   "outputs": [],
   "source": [
    "theta, J_history = gradient_descent(X, y, theta)"
   ]
  },
  {
   "cell_type": "code",
   "execution_count": 12,
   "metadata": {},
   "outputs": [
    {
     "name": "stdout",
     "output_type": "stream",
     "text": [
      "Theta found by gradient descent:  [-3.6303  1.1664]\n",
      "h(x) = -3.6303 + 1.1664x1\n"
     ]
    }
   ],
   "source": [
    "print('Theta found by gradient descent: ',theta.ravel().round(4))\n",
    "print('h(x) = ' + str(round(theta[0,0],4))+ ' + ' + str(round(theta[1,0],4)) + 'x1')"
   ]
  },
  {
   "cell_type": "code",
   "execution_count": 13,
   "metadata": {},
   "outputs": [
    {
     "data": {
      "image/png": "[encoded data removed]",
      "text/plain": [
       "<Figure size 720x360 with 1 Axes>"
      ]
     },
     "metadata": {
      "needs_background": "light"
     },
     "output_type": "display_data"
    }
   ],
   "source": [
    "plt.plot(J_history, c='green')\n",
    "plt.rcParams['figure.figsize'] = (10,5)\n",
    "plt.ylabel('$J(\\Theta)$')\n",
    "plt.xlabel('Iterations')\n",
    "plt.xlim(0,1500)\n",
    "plt.title('Convergence of Gradient Descent with alpha=0.01')\n",
    "plt.show()"
   ]
  },
  {
   "cell_type": "code",
   "execution_count": 14,
   "metadata": {},
   "outputs": [
    {
     "data": {
      "image/png": "[encoded data removed]",
      "text/plain": [
       "<Figure size 720x360 with 1 Axes>"
      ]
     },
     "metadata": {
      "needs_background": "light"
     },
     "output_type": "display_data"
    }
   ],
   "source": [
    "plt.rcParams['figure.figsize'] = (10,5)\n",
    "plt.scatter(X[:,1], y, c='red', marker='X', linewidth=1, label='Training data')\n",
    "plt.plot(X[:,1], np.dot(X, theta), c='b', linewidth=1, label='Linear regression')\n",
    "plt.xlabel('Population of City in 10,000s')\n",
    "plt.ylabel('Profit in $10,000s')\n",
    "plt.legend(loc=4)\n",
    "plt.show()"
   ]
  },
  {
   "cell_type": "markdown",
   "metadata": {},
   "source": [
    "#### Making Predictions\n",
    "Finally, we will use our computed values for `theta` to make predictions on profits in areas with `35,000` and `70,000` people."
   ]
  },
  {
   "cell_type": "code",
   "execution_count": 15,
   "metadata": {},
   "outputs": [],
   "source": [
    "def predict_profit(population, theta):\n",
    "    \"\"\"\n",
    "    Predicts profit according to population size\n",
    "    \"\"\"\n",
    "    return ((theta.T.dot([1, population])*10000).round(2)[0])"
   ]
  },
  {
   "cell_type": "code",
   "execution_count": 16,
   "metadata": {},
   "outputs": [
    {
     "name": "stdout",
     "output_type": "stream",
     "text": [
      "For population = 35.000, we predict a profit of $ 4519.77\n",
      "For population = 70.000, we predict a profit of $ 45342.45\n"
     ]
    }
   ],
   "source": [
    "print('For population = 35.000, we predict a profit of $',predict_profit(3.5, theta))\n",
    "print('For population = 70.000, we predict a profit of $',predict_profit(7, theta))"
   ]
  },
  {
   "cell_type": "markdown",
   "metadata": {},
   "source": [
    "<a id=\"linearRegressionMV\"></a>"
   ]
  },
  {
   "cell_type": "markdown",
   "metadata": {},
   "source": [
    "## Linear Regression with Multiple Variables\n",
    "In this part, we will implement linear regression with multiple variables to predict the prices of houses.  \n",
    "Suppose you are selling your house and you want to know what a good market price would be. One way to do this is to first collect information on recent houses sold and make a model of housing prices."
   ]
  },
  {
   "cell_type": "code",
   "execution_count": 17,
   "metadata": {},
   "outputs": [],
   "source": [
    "data2 = pd.read_csv('ex1data2.txt', header=None, names=['Area', 'Bedrooms', 'Price'])\n",
    "\n",
    "X2 = data2.iloc[:,0:2]\n",
    "y2 = data2.iloc[:,2]"
   ]
  },
  {
   "cell_type": "markdown",
   "metadata": {},
   "source": [
    "#### Visualizing the Data\n",
    "Again, we begin by examining the data: we will have a look at its first five rows, at some basic statistics and we will plot the values in two scatter plots."
   ]
  },
  {
   "cell_type": "code",
   "execution_count": 18,
   "metadata": {},
   "outputs": [
    {
     "data": {
      "text/html": [
       "<div>\n",
       "<style scoped>\n",
       "    .dataframe tbody tr th:only-of-type {\n",
       "        vertical-align: middle;\n",
       "    }\n",
       "\n",
       "    .dataframe tbody tr th {\n",
       "        vertical-align: top;\n",
       "    }\n",
       "\n",
       "    .dataframe thead th {\n",
       "        text-align: right;\n",
       "    }\n",
       "</style>\n",
       "<table border=\"1\" class=\"dataframe\">\n",
       "  <thead>\n",
       "    <tr style=\"text-align: right;\">\n",
       "      <th></th>\n",
       "      <th>Area</th>\n",
       "      <th>Bedrooms</th>\n",
       "      <th>Price</th>\n",
       "    </tr>\n",
       "  </thead>\n",
       "  <tbody>\n",
       "    <tr>\n",
       "      <th>0</th>\n",
       "      <td>2104</td>\n",
       "      <td>3</td>\n",
       "      <td>399900</td>\n",
       "    </tr>\n",
       "    <tr>\n",
       "      <th>1</th>\n",
       "      <td>1600</td>\n",
       "      <td>3</td>\n",
       "      <td>329900</td>\n",
       "    </tr>\n",
       "    <tr>\n",
       "      <th>2</th>\n",
       "      <td>2400</td>\n",
       "      <td>3</td>\n",
       "      <td>369000</td>\n",
       "    </tr>\n",
       "    <tr>\n",
       "      <th>3</th>\n",
       "      <td>1416</td>\n",
       "      <td>2</td>\n",
       "      <td>232000</td>\n",
       "    </tr>\n",
       "    <tr>\n",
       "      <th>4</th>\n",
       "      <td>3000</td>\n",
       "      <td>4</td>\n",
       "      <td>539900</td>\n",
       "    </tr>\n",
       "  </tbody>\n",
       "</table>\n",
       "</div>"
      ],
      "text/plain": [
       "   Area  Bedrooms   Price\n",
       "0  2104         3  399900\n",
       "1  1600         3  329900\n",
       "2  2400         3  369000\n",
       "3  1416         2  232000\n",
       "4  3000         4  539900"
      ]
     },
     "execution_count": 18,
     "metadata": {},
     "output_type": "execute_result"
    }
   ],
   "source": [
    "data2.head()"
   ]
  },
  {
   "cell_type": "code",
   "execution_count": 19,
   "metadata": {},
   "outputs": [
    {
     "data": {
      "text/html": [
       "<div>\n",
       "<style scoped>\n",
       "    .dataframe tbody tr th:only-of-type {\n",
       "        vertical-align: middle;\n",
       "    }\n",
       "\n",
       "    .dataframe tbody tr th {\n",
       "        vertical-align: top;\n",
       "    }\n",
       "\n",
       "    .dataframe thead th {\n",
       "        text-align: right;\n",
       "    }\n",
       "</style>\n",
       "<table border=\"1\" class=\"dataframe\">\n",
       "  <thead>\n",
       "    <tr style=\"text-align: right;\">\n",
       "      <th></th>\n",
       "      <th>Area</th>\n",
       "      <th>Bedrooms</th>\n",
       "      <th>Price</th>\n",
       "    </tr>\n",
       "  </thead>\n",
       "  <tbody>\n",
       "    <tr>\n",
       "      <th>count</th>\n",
       "      <td>47.000000</td>\n",
       "      <td>47.000000</td>\n",
       "      <td>47.000000</td>\n",
       "    </tr>\n",
       "    <tr>\n",
       "      <th>mean</th>\n",
       "      <td>2000.680851</td>\n",
       "      <td>3.170213</td>\n",
       "      <td>340412.659574</td>\n",
       "    </tr>\n",
       "    <tr>\n",
       "      <th>std</th>\n",
       "      <td>794.702354</td>\n",
       "      <td>0.760982</td>\n",
       "      <td>125039.899586</td>\n",
       "    </tr>\n",
       "    <tr>\n",
       "      <th>min</th>\n",
       "      <td>852.000000</td>\n",
       "      <td>1.000000</td>\n",
       "      <td>169900.000000</td>\n",
       "    </tr>\n",
       "    <tr>\n",
       "      <th>25%</th>\n",
       "      <td>1432.000000</td>\n",
       "      <td>3.000000</td>\n",
       "      <td>249900.000000</td>\n",
       "    </tr>\n",
       "    <tr>\n",
       "      <th>50%</th>\n",
       "      <td>1888.000000</td>\n",
       "      <td>3.000000</td>\n",
       "      <td>299900.000000</td>\n",
       "    </tr>\n",
       "    <tr>\n",
       "      <th>75%</th>\n",
       "      <td>2269.000000</td>\n",
       "      <td>4.000000</td>\n",
       "      <td>384450.000000</td>\n",
       "    </tr>\n",
       "    <tr>\n",
       "      <th>max</th>\n",
       "      <td>4478.000000</td>\n",
       "      <td>5.000000</td>\n",
       "      <td>699900.000000</td>\n",
       "    </tr>\n",
       "  </tbody>\n",
       "</table>\n",
       "</div>"
      ],
      "text/plain": [
       "              Area   Bedrooms          Price\n",
       "count    47.000000  47.000000      47.000000\n",
       "mean   2000.680851   3.170213  340412.659574\n",
       "std     794.702354   0.760982  125039.899586\n",
       "min     852.000000   1.000000  169900.000000\n",
       "25%    1432.000000   3.000000  249900.000000\n",
       "50%    1888.000000   3.000000  299900.000000\n",
       "75%    2269.000000   4.000000  384450.000000\n",
       "max    4478.000000   5.000000  699900.000000"
      ]
     },
     "execution_count": 19,
     "metadata": {},
     "output_type": "execute_result"
    }
   ],
   "source": [
    "data2.describe()"
   ]
  },
  {
   "cell_type": "code",
   "execution_count": 20,
   "metadata": {},
   "outputs": [
    {
     "data": {
      "image/png": "[encoded data removed]",
      "text/plain": [
       "<Figure size 936x288 with 2 Axes>"
      ]
     },
     "metadata": {
      "needs_background": "light"
     },
     "output_type": "display_data"
    }
   ],
   "source": [
    "plt.rcParams['figure.figsize'] = (13,4)\n",
    "\n",
    "plt.subplot(1, 2, 1)\n",
    "plt.scatter(X2.iloc[:,0], y2, c='green', marker='X', linewidths=1)\n",
    "plt.ylabel('Price')\n",
    "plt.xlabel('Area (Square Feet)')\n",
    "\n",
    "plt.subplot(1, 2, 2)\n",
    "plt.scatter(X2.iloc[:,1], y2, c='blue', marker='X', linewidths=1)\n",
    "plt.xlabel('Number of Bedrooms')\n",
    "plt.ylabel('Price')\n",
    "\n",
    "plt.tight_layout()\n",
    "\n",
    "plt.show()"
   ]
  },
  {
   "cell_type": "markdown",
   "metadata": {},
   "source": [
    "#### Feature Normalization\n",
    "By looking at the values, we can see that the house sizes are about `1000` times the number of bedrooms. So we need to perform `Feature Scaling` to make `Gradient Descent` converge more quickly."
   ]
  },
  {
   "cell_type": "code",
   "execution_count": 21,
   "metadata": {},
   "outputs": [],
   "source": [
    "def feature_normalization(X):\n",
    "    \"\"\"\n",
    "    Returns a normalized version of X where the mean value of each feature is 0 and the standard deviation is 1\n",
    "    \"\"\"\n",
    "    mean_X = np.mean(X, axis=0) #mean of each column\n",
    "    std_X = np.std(X, axis=0) #standard deviation of each column\n",
    "    X_norm = (X - mean_X) / std_X\n",
    "    \n",
    "    return (X_norm, std_X, mean_X)"
   ]
  },
  {
   "cell_type": "markdown",
   "metadata": {},
   "source": [
    "#### Preparing the Data\n",
    "We will prepare the data to be analysed."
   ]
  },
  {
   "cell_type": "code",
   "execution_count": 22,
   "metadata": {},
   "outputs": [],
   "source": [
    "m2 = len(X2)\n",
    "\n",
    "ones2 = np.ones((m2, 1))\n",
    "\n",
    "X2 = X2.to_numpy() #pd.to_numpy() - converts Dataframe to NumPy array\n",
    "\n",
    "X2, mean_X2, std_X2 = feature_normalization(X2)\n",
    "\n",
    "X2 = np.hstack((ones2, X2))\n",
    "y2 = y2[:, np.newaxis]\n",
    "\n",
    "theta2 = np.zeros((3,1))"
   ]
  },
  {
   "cell_type": "markdown",
   "metadata": {},
   "source": [
    "#### Cost and Gradient Descent\n",
    "Now, we will test the cost of using `theta` initialized to `0`. Then, we will perform `Gradient Descent` on our data and compute the values of `theta`. We will see that it is working correctly on the plot."
   ]
  },
  {
   "cell_type": "code",
   "execution_count": 23,
   "metadata": {},
   "outputs": [
    {
     "name": "stdout",
     "output_type": "stream",
     "text": [
      "With theta [0. 0. 0.] , cost computed = 65591548106.46\n"
     ]
    }
   ],
   "source": [
    "cost_J2 = compute_cost(X2,y2,theta2)\n",
    "print ('With theta', theta2.ravel(),', cost computed =',cost_J2.round(2))"
   ]
  },
  {
   "cell_type": "code",
   "execution_count": 24,
   "metadata": {
    "scrolled": true
   },
   "outputs": [
    {
     "name": "stdout",
     "output_type": "stream",
     "text": [
      "Theta found by gradient descent:  [340412.6592 109439.8755  -6570.4339]\n",
      "With theta [340412.65915621 109439.87553302  -6570.43391754] , cost computed = 2043280078.21\n",
      "h(x) = 340412.6592 + 109439.8755x1 + -6570.4339x2\n"
     ]
    }
   ],
   "source": [
    "theta2, J_history2 = gradient_descent(X2, y2, theta2, 0.05, 400)\n",
    "cost_J2 = compute_cost(X2,y2,theta2)\n",
    "print('Theta found by gradient descent: ',theta2.ravel().round(4))\n",
    "print ('With theta', theta2.ravel(),', cost computed =',cost_J2.round(2))\n",
    "print('h(x) = ' + str(round(theta2[0,0],4))+ ' + ' + str(round(theta2[1,0],4)) + 'x1'+ ' + ' + str(round(theta2[2,0],4)) + 'x2')"
   ]
  },
  {
   "cell_type": "code",
   "execution_count": 25,
   "metadata": {},
   "outputs": [
    {
     "data": {
      "image/png": "[encoded data removed]",
      "text/plain": [
       "<Figure size 936x288 with 1 Axes>"
      ]
     },
     "metadata": {
      "needs_background": "light"
     },
     "output_type": "display_data"
    }
   ],
   "source": [
    "plt.plot(J_history2, c='lime')\n",
    "plt.rcParams['figure.figsize'] = (10,5)\n",
    "plt.ylabel('$J(\\Theta)$')\n",
    "plt.xlabel('Iterations')\n",
    "plt.xlim(0,400)\n",
    "plt.title('Convergence of Gradient Descent with alpha=0.05')\n",
    "plt.show()"
   ]
  },
  {
   "cell_type": "markdown",
   "metadata": {},
   "source": [
    "#### Making Predictions\n",
    "Finally, we will use our computed values for `theta` to predict the selling price of a house with `1650` square feet and `3` bedrooms."
   ]
  },
  {
   "cell_type": "code",
   "execution_count": 26,
   "metadata": {},
   "outputs": [],
   "source": [
    "def predict_price(area, num_bedrooms, theta):\n",
    "    \"\"\"\n",
    "    Calculates the predicted price \n",
    "    \"\"\"\n",
    "    predicted_price = np.dot([1, (area - mean_X2[0]) / std_X2[0], (3 - mean_X2[1]) / std_X2[1]], theta2)\n",
    "    \n",
    "    return (predicted_price[0], area, num_bedrooms)"
   ]
  },
  {
   "cell_type": "code",
   "execution_count": 27,
   "metadata": {},
   "outputs": [
    {
     "name": "stdout",
     "output_type": "stream",
     "text": [
      "Predicted price of a 1650 square feet, 3-bedroom house (using gradient descent): $383006.16\n"
     ]
    }
   ],
   "source": [
    "predicted_price, area, num_bedrooms = predict_price(1650,3,theta2)\n",
    "print ('Predicted price of a '+ str(area) + ' square feet, '+ str(num_bedrooms)+'-bedroom house (using gradient descent): $' + str(round(predicted_price,2)))"
   ]
  },
  {
   "cell_type": "markdown",
   "metadata": {},
   "source": [
    "#### Normal Equation\n",
    "Now, as an alternative to `Gradient Descent`, we will compute the values for `theta` using the `Normal Equation`, and predict the selling price of the same house."
   ]
  },
  {
   "cell_type": "code",
   "execution_count": 28,
   "metadata": {},
   "outputs": [],
   "source": [
    "X3 = data2.iloc[:,0:2]\n",
    "y3 = data2.iloc[:,2]\n",
    "\n",
    "m3 = len(X3)\n",
    "ones3 = np.ones((m3, 1))\n",
    "X3 = np.hstack((ones3, X3))"
   ]
  },
  {
   "cell_type": "code",
   "execution_count": 29,
   "metadata": {},
   "outputs": [],
   "source": [
    "def normal_equation(X,y):\n",
    "    \"\"\"\n",
    "    Normal Equation\n",
    "    \"\"\"\n",
    "    theta = np.linalg.pinv(X.T.dot(X)).dot(X.T).dot(y)\n",
    "    return theta"
   ]
  },
  {
   "cell_type": "code",
   "execution_count": 30,
   "metadata": {},
   "outputs": [
    {
     "name": "stdout",
     "output_type": "stream",
     "text": [
      "Theta found by normal equation: [89597.9095   139.2107 -8738.0191]\n"
     ]
    }
   ],
   "source": [
    "theta3 = normal_equation(X3,y3)\n",
    "print ('Theta found by normal equation:', theta3.ravel().round(4))"
   ]
  },
  {
   "cell_type": "code",
   "execution_count": 31,
   "metadata": {},
   "outputs": [],
   "source": [
    "def predict_price_normal(area, num_bedrooms,theta):\n",
    "    \"\"\"\n",
    "    Calcultes the price by normal equation\n",
    "    \"\"\"\n",
    "    price = np.array([1, area, num_bedrooms]).dot(theta)\n",
    "    return (price, area, num_bedrooms)"
   ]
  },
  {
   "cell_type": "code",
   "execution_count": 32,
   "metadata": {},
   "outputs": [
    {
     "name": "stdout",
     "output_type": "stream",
     "text": [
      "Predicted price of a 1650 square feet, 3-bedroom house (using normal equation): $293081.46\n"
     ]
    }
   ],
   "source": [
    "predicted_price_normal, area, num_bedrooms = predict_price_normal(1650, 3, theta3)\n",
    "print ('Predicted price of a '+ str(area) + ' square feet, '+ str(num_bedrooms)+'-bedroom house (using normal equation): $' + str(round(predicted_price_normal,2)))"
   ]
  }
 ],
 "metadata": {
  "kernelspec": {
   "display_name": "Python 3",
   "language": "python",
   "name": "python3"
  },
  "language_info": {
   "codemirror_mode": {
    "name": "ipython",
    "version": 3
   },
   "file_extension": ".py",
   "mimetype": "text/x-python",
   "name": "python",
   "nbconvert_exporter": "python",
   "pygments_lexer": "ipython3",
   "version": "3.7.3"
  }
 },
 "nbformat": 4,
 "nbformat_minor": 2
}
